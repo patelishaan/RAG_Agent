{
  "nbformat": 4,
  "nbformat_minor": 0,
  "metadata": {
    "colab": {
      "provenance": []
    },
    "kernelspec": {
      "name": "python3",
      "display_name": "Python 3"
    },
    "language_info": {
      "name": "python"
    }
  },
  "cells": [
    {
      "cell_type": "code",
      "execution_count": 3,
      "metadata": {
        "id": "hzHw7x4KTavF",
        "colab": {
          "base_uri": "https://localhost:8080/"
        },
        "outputId": "fa582573-673e-4870-afb6-7303746cd8de"
      },
      "outputs": [
        {
          "output_type": "stream",
          "name": "stdout",
          "text": [
            "\u001b[2K     \u001b[90m━━━━━━━━━━━━━━━━━━━━━━━━━━━━━━━━━━━━━━━━\u001b[0m \u001b[32m43.7/43.7 kB\u001b[0m \u001b[31m3.2 MB/s\u001b[0m eta \u001b[36m0:00:00\u001b[0m\n",
            "\u001b[2K   \u001b[90m━━━━━━━━━━━━━━━━━━━━━━━━━━━━━━━━━━━━━━━━\u001b[0m \u001b[32m2.5/2.5 MB\u001b[0m \u001b[31m70.2 MB/s\u001b[0m eta \u001b[36m0:00:00\u001b[0m\n",
            "\u001b[2K   \u001b[90m━━━━━━━━━━━━━━━━━━━━━━━━━━━━━━━━━━━━━━━━\u001b[0m \u001b[32m153.3/153.3 kB\u001b[0m \u001b[31m13.9 MB/s\u001b[0m eta \u001b[36m0:00:00\u001b[0m\n",
            "\u001b[2K   \u001b[90m━━━━━━━━━━━━━━━━━━━━━━━━━━━━━━━━━━━━━━━━\u001b[0m \u001b[32m444.0/444.0 kB\u001b[0m \u001b[31m32.5 MB/s\u001b[0m eta \u001b[36m0:00:00\u001b[0m\n",
            "\u001b[2K   \u001b[90m━━━━━━━━━━━━━━━━━━━━━━━━━━━━━━━━━━━━━━━━\u001b[0m \u001b[32m43.9/43.9 kB\u001b[0m \u001b[31m3.8 MB/s\u001b[0m eta \u001b[36m0:00:00\u001b[0m\n",
            "\u001b[2K   \u001b[90m━━━━━━━━━━━━━━━━━━━━━━━━━━━━━━━━━━━━━━━━\u001b[0m \u001b[32m54.0/54.0 kB\u001b[0m \u001b[31m4.1 MB/s\u001b[0m eta \u001b[36m0:00:00\u001b[0m\n",
            "\u001b[2K   \u001b[90m━━━━━━━━━━━━━━━━━━━━━━━━━━━━━━━━━━━━━━━━\u001b[0m \u001b[32m1.8/1.8 MB\u001b[0m \u001b[31m69.2 MB/s\u001b[0m eta \u001b[36m0:00:00\u001b[0m\n",
            "\u001b[2K   \u001b[90m━━━━━━━━━━━━━━━━━━━━━━━━━━━━━━━━━━━━━━━━\u001b[0m \u001b[32m64.7/64.7 kB\u001b[0m \u001b[31m5.7 MB/s\u001b[0m eta \u001b[36m0:00:00\u001b[0m\n",
            "\u001b[2K   \u001b[90m━━━━━━━━━━━━━━━━━━━━━━━━━━━━━━━━━━━━━━━━\u001b[0m \u001b[32m50.9/50.9 kB\u001b[0m \u001b[31m4.3 MB/s\u001b[0m eta \u001b[36m0:00:00\u001b[0m\n",
            "\u001b[2K   \u001b[90m━━━━━━━━━━━━━━━━━━━━━━━━━━━━━━━━━━━━━━━━\u001b[0m \u001b[32m216.7/216.7 kB\u001b[0m \u001b[31m18.8 MB/s\u001b[0m eta \u001b[36m0:00:00\u001b[0m\n",
            "\u001b[?25h\u001b[31mERROR: pip's dependency resolver does not currently take into account all the packages that are installed. This behaviour is the source of the following dependency conflicts.\n",
            "google-colab 1.0.0 requires requests==2.32.4, but you have requests 2.32.5 which is incompatible.\u001b[0m\u001b[31m\n",
            "\u001b[0m"
          ]
        }
      ],
      "source": [
        "!pip install --quiet --upgrade langchain-text-splitters langchain-community langgraph"
      ]
    },
    {
      "cell_type": "code",
      "source": [
        "!pip install -qU \"langchain[mistralai]\""
      ],
      "metadata": {
        "id": "xHU1BRd6VXCf"
      },
      "execution_count": 4,
      "outputs": []
    },
    {
      "cell_type": "code",
      "source": [
        "import getpass\n",
        "import os\n",
        "import google.colab.userdata\n",
        "\n",
        "MISTRAL_API_KEY = google.colab.userdata.get('MISTRAL').strip()\n",
        "if MISTRAL_API_KEY.startswith(\"Bearer \"):\n",
        "    MISTRAL_API_KEY = MISTRAL_API_KEY[len(\"Bearer \"):]\n",
        "\n",
        "from langchain.chat_models import init_chat_model\n",
        "\n",
        "llm = init_chat_model(\"mistral-medium-latest\", model_provider=\"mistralai\", api_key = MISTRAL_API_KEY)"
      ],
      "metadata": {
        "id": "couHf_mQVcVD"
      },
      "execution_count": 5,
      "outputs": []
    },
    {
      "cell_type": "code",
      "source": [
        "!pip install -qU langchain-mistralai"
      ],
      "metadata": {
        "id": "BCesK6VeWDSQ"
      },
      "execution_count": 6,
      "outputs": []
    },
    {
      "cell_type": "code",
      "source": [
        "#embeddings\n",
        "from langchain_mistralai import MistralAIEmbeddings\n",
        "\n",
        "\n",
        "\n",
        "embeddings = MistralAIEmbeddings(model=\"mistral-embed\", mistral_api_key=MISTRAL_API_KEY)"
      ],
      "metadata": {
        "colab": {
          "base_uri": "https://localhost:8080/"
        },
        "id": "Gs-nvQ25V5UP",
        "outputId": "5c400cfa-37d9-4aeb-d5b6-a2900154c94a"
      },
      "execution_count": 25,
      "outputs": [
        {
          "output_type": "stream",
          "name": "stderr",
          "text": [
            "/usr/local/lib/python3.12/dist-packages/langchain_mistralai/embeddings.py:186: UserWarning: Could not download mistral tokenizer from Huggingface for calculating batch sizes. Set a Huggingface token via the HF_TOKEN environment variable to download the real tokenizer. Falling back to a dummy tokenizer that uses `len()`.\n",
            "  warnings.warn(\n"
          ]
        }
      ]
    },
    {
      "cell_type": "code",
      "source": [
        "!pip install -qU langchain-core"
      ],
      "metadata": {
        "id": "FLOqH5XVV_GC"
      },
      "execution_count": 7,
      "outputs": []
    },
    {
      "cell_type": "code",
      "source": [
        "#vectorstore (in memory)\n",
        "from langchain_core.vectorstores import InMemoryVectorStore\n",
        "\n",
        "vector_store = InMemoryVectorStore(embeddings)"
      ],
      "metadata": {
        "id": "1UDLtb-dWMK8"
      },
      "execution_count": 9,
      "outputs": []
    },
    {
      "cell_type": "code",
      "source": [
        "import bs4\n",
        "from langchain import hub\n",
        "from langchain_community.document_loaders import WebBaseLoader\n",
        "from langchain_core.documents import Document\n",
        "from langchain_text_splitters import RecursiveCharacterTextSplitter\n",
        "from langgraph.graph import START, StateGraph\n",
        "from typing_extensions import List, TypedDict"
      ],
      "metadata": {
        "id": "z6C3levcWnZS",
        "colab": {
          "base_uri": "https://localhost:8080/"
        },
        "outputId": "cdbfa3ed-b402-4e08-9c19-dc6788ea19b5"
      },
      "execution_count": 10,
      "outputs": [
        {
          "output_type": "stream",
          "name": "stderr",
          "text": [
            "WARNING:langchain_community.utils.user_agent:USER_AGENT environment variable not set, consider setting it to identify your requests.\n"
          ]
        }
      ]
    },
    {
      "cell_type": "code",
      "source": [
        "from bs4 import BeautifulSoup, SoupStrainer\n",
        "import requests\n",
        "\n",
        "url = \"https://www.gutenberg.org/cache/epub/13789/pg13789-images.html\"\n",
        "response = requests.get(url)\n",
        "\n",
        "# Extract only paragraphs\n",
        "only_p = SoupStrainer(\"p\")\n",
        "soup = BeautifulSoup(response.text, \"html.parser\", parse_only=only_p)\n",
        "\n",
        "text = \"\\n\".join(p.get_text() for p in soup.find_all(\"p\"))\n",
        "print(text[:500])  # first 500 chars\n"
      ],
      "metadata": {
        "id": "S_kCUhxDWrfo",
        "colab": {
          "base_uri": "https://localhost:8080/"
        },
        "outputId": "94a5ebc0-74e0-48ba-b302-bd3968f14112"
      },
      "execution_count": 11,
      "outputs": [
        {
          "output_type": "stream",
          "name": "stdout",
          "text": [
            "Title: Great Britain and the American Civil War\n",
            "Author: Ephraim Douglass Adams\n",
            "Release date: October 18, 2004 [eBook #13789]\r\n",
            "                Most recently updated: October 28, 2024\n",
            "Language: English\n",
            "Credits: Produced by Jonathan Ingram, Charlie Kirschner and the PG Online\r\n",
            "        Distributed Proofreading Team.\n",
            "\n",
            "LORD JOHN RUSSELL\r\n",
            "(From Trevelyan's \"Garibaldi and the Making of Italy\")\n",
            "This work was begun many years ago. In 1908 I read in the\r\n",
            "British Museum many newspapers and journals for the \n"
          ]
        }
      ]
    },
    {
      "cell_type": "code",
      "source": [
        "from langchain.text_splitter import RecursiveCharacterTextSplitter\n",
        "from langchain.docstore.document import Document\n",
        "\n",
        "# Wrap the scraped text in a Document\n",
        "doc = Document(page_content=text)\n",
        "\n",
        "text_splitter = RecursiveCharacterTextSplitter(chunk_size=1000, chunk_overlap=200)\n",
        "all_splits = text_splitter.split_documents([doc])  # pass a list of Documents\n",
        "\n",
        "print(len(all_splits))          # number of chunks\n",
        "print(all_splits[0].page_content[:500])  # first 500 chars of first chunk\n"
      ],
      "metadata": {
        "id": "5xViPYkvWvOq",
        "colab": {
          "base_uri": "https://localhost:8080/"
        },
        "outputId": "f80db2e3-9aa6-4bc6-86c2-b43e129b8d46"
      },
      "execution_count": 12,
      "outputs": [
        {
          "output_type": "stream",
          "name": "stdout",
          "text": [
            "1257\n",
            "Title: Great Britain and the American Civil War\n",
            "Author: Ephraim Douglass Adams\n",
            "Release date: October 18, 2004 [eBook #13789]\r\n",
            "                Most recently updated: October 28, 2024\n",
            "Language: English\n",
            "Credits: Produced by Jonathan Ingram, Charlie Kirschner and the PG Online\r\n",
            "        Distributed Proofreading Team.\n"
          ]
        }
      ]
    },
    {
      "cell_type": "code",
      "source": [
        "# Index chunks\n",
        "print(f\"Using embeddings object: {embeddings}\") # Print the embeddings object\n",
        "_ = vector_store.add_documents(documents=all_splits)\n",
        "\n",
        "# Define prompt for question-answering\n",
        "# N.B. for non-US LangSmith endpoints, you may need to specify\n",
        "# api_url=\"https://api.smith.langchain.com\" in hub.pull.\n",
        "prompt = hub.pull(\"rlm/rag-prompt\")"
      ],
      "metadata": {
        "colab": {
          "base_uri": "https://localhost:8080/"
        },
        "id": "91h7C5hiWyJ7",
        "outputId": "015f9849-30cb-4c6c-aea8-87fed1d1b225"
      },
      "execution_count": 13,
      "outputs": [
        {
          "output_type": "stream",
          "name": "stdout",
          "text": [
            "Using embeddings object: client=<httpx.Client object at 0x7ea64965b140> async_client=<httpx.AsyncClient object at 0x7ea649af56d0> mistral_api_key=SecretStr('**********') endpoint='https://api.mistral.ai/v1/' max_retries=5 timeout=120 wait_time=30 max_concurrent_requests=64 tokenizer=<langchain_mistralai.embeddings.DummyTokenizer object at 0x7ea648a2e360> model='mistral-embed'\n"
          ]
        },
        {
          "output_type": "stream",
          "name": "stderr",
          "text": [
            "/usr/local/lib/python3.12/dist-packages/langsmith/client.py:272: LangSmithMissingAPIKeyWarning: API key must be provided when using hosted LangSmith API\n",
            "  warnings.warn(\n"
          ]
        }
      ]
    },
    {
      "cell_type": "code",
      "source": [
        "\n",
        "# Define state for application\n",
        "class State(TypedDict):\n",
        "    question: str\n",
        "    context: List[Document]\n",
        "    answer: str\n",
        "\n",
        "\n",
        "# Define application steps\n",
        "def retrieve(state: State):\n",
        "    retrieved_docs = vector_store.similarity_search(state[\"question\"])\n",
        "    return {\"context\": retrieved_docs}\n",
        "\n",
        "\n",
        "def generate(state: State):\n",
        "    docs_content = \"\\n\\n\".join(doc.page_content for doc in state[\"context\"])\n",
        "    messages = prompt.invoke({\"question\": state[\"question\"], \"context\": docs_content})\n",
        "    response = llm.invoke(messages)\n",
        "    return {\"answer\": response.content}"
      ],
      "metadata": {
        "id": "z2pqBAppXhzE"
      },
      "execution_count": 14,
      "outputs": []
    },
    {
      "cell_type": "code",
      "source": [
        "# Compile application and test\n",
        "graph_builder = StateGraph(State).add_sequence([retrieve, generate])\n",
        "graph_builder.add_edge(START, \"retrieve\")\n",
        "graph = graph_builder.compile()"
      ],
      "metadata": {
        "id": "zigWVHajXkIY"
      },
      "execution_count": 15,
      "outputs": []
    },
    {
      "cell_type": "code",
      "source": [
        "response = graph.invoke({\"question\": \"When did the american civil war happen?\"})\n",
        "print(response[\"answer\"])"
      ],
      "metadata": {
        "colab": {
          "base_uri": "https://localhost:8080/"
        },
        "id": "DI3NSxYnXmLb",
        "outputId": "9f0f0237-01f2-4342-b8dc-cddeaa9b9d62"
      },
      "execution_count": 17,
      "outputs": [
        {
          "output_type": "stream",
          "name": "stdout",
          "text": [
            "The American Civil War took place from **1861 to 1865**, beginning after the Confederate attack on Fort Sumter in April 1861 and ending with the surrender of Confederate forces in 1865. The context mentions key events like the blockade proclamation in April 1861 and the war's progression through 1864. It was the deadliest conflict in U.S. history at the time.\n"
          ]
        }
      ]
    },
    {
      "cell_type": "code",
      "source": [
        "from langchain import hub\n",
        "\n",
        "# N.B. for non-US LangSmith endpoints, you may need to specify\n",
        "# api_url=\"https://api.smith.langchain.com\" in hub.pull.\n",
        "prompt = hub.pull(\"rlm/rag-prompt\")\n",
        "\n",
        "example_messages = prompt.invoke(\n",
        "    {\"context\": \"(context goes here)\", \"question\": \"(question goes here)\"}\n",
        ").to_messages()\n",
        "\n",
        "assert len(example_messages) == 1\n",
        "print(example_messages[0].content)"
      ],
      "metadata": {
        "colab": {
          "base_uri": "https://localhost:8080/"
        },
        "id": "eYzpu1DtaiSB",
        "outputId": "d5c9dc9a-5343-4579-d093-955fa560e8d6"
      },
      "execution_count": 18,
      "outputs": [
        {
          "output_type": "stream",
          "name": "stdout",
          "text": [
            "You are an assistant for question-answering tasks. Use the following pieces of retrieved context to answer the question. If you don't know the answer, just say that you don't know. Use three sentences maximum and keep the answer concise.\n",
            "Question: (question goes here) \n",
            "Context: (context goes here) \n",
            "Answer:\n"
          ]
        },
        {
          "output_type": "stream",
          "name": "stderr",
          "text": [
            "/usr/local/lib/python3.12/dist-packages/langsmith/client.py:272: LangSmithMissingAPIKeyWarning: API key must be provided when using hosted LangSmith API\n",
            "  warnings.warn(\n"
          ]
        }
      ]
    },
    {
      "cell_type": "code",
      "source": [
        "from IPython.display import Image, display\n",
        "\n",
        "display(Image(graph.get_graph().draw_mermaid_png()))"
      ],
      "metadata": {
        "colab": {
          "base_uri": "https://localhost:8080/",
          "height": 350
        },
        "id": "D3GzT6gaa0Qt",
        "outputId": "39620dd2-32fb-44e6-a08b-cbf332d033a0"
      },
      "execution_count": 22,
      "outputs": [
        {
          "output_type": "display_data",
          "data": {
            "image/png": "[encoded data removed]",
            "text/plain": [
              "<IPython.core.display.Image object>"
            ]
          },
          "metadata": {}
        }
      ]
    },
    {
      "cell_type": "code",
      "source": [
        "result = graph.invoke({\"question\": \"how many people died during the american civil war?\"})\n",
        "\n",
        "print(f\"Context: {result['context']}\\n\\n\")\n",
        "print(f\"Answer: {result['answer']}\")"
      ],
      "metadata": {
        "colab": {
          "base_uri": "https://localhost:8080/"
        },
        "id": "FcjQd56ta-a7",
        "outputId": "66a8e576-5f77-4748-a673-7da9c5730f9c"
      },
      "execution_count": 24,
      "outputs": [
        {
          "output_type": "stream",
          "name": "stdout",
          "text": [
            "Context: [Document(id='0f2ce697-b7b3-4921-a191-b7e6c988ca94', metadata={}, page_content='resumed an upward trend, increasing rapidly until December, 1862,\\r\\nwhen it reached its highest point of 284,418. In this same first\\r\\nweek of December private relief, now thoroughly organized in a\\r\\ngreat national effort, was extended to 236,000 people, making a\\r\\ngrand total at high tide of distress of over 550,000 persons, if\\r\\nprivate relief was not extended to those receiving public funds.\\r\\nBut of this differentiation there is no surety--indeed there are\\r\\nevidences of much duplication of effort in certain districts. In\\r\\ngeneral, however, these statistics do exhibit the great lack of\\r\\nemployment in a one-industry district heretofore enjoying unusual\\r\\nprosperity[680].\\nThe manufacturing operative population of the district was\\r\\nestimated at between 500,000 and 600,000. At the time of greatest\\r\\ndistress some 412,000 of these were receiving either public or\\r\\nprivate aid, though many were working part-time in the mills or\\r\\nwere engaged on public enterprises set on foot to ease the crisis.'), Document(id='0d41b524-2dec-4a79-8216-5124311715fc', metadata={}, page_content='six months this was to be the note harped upon in society, by\\r\\norganizations, and in the friendly press.\\nAfter three years of great Northern efforts to subdue the South\\r\\nand of Southern campaigns aimed, first, merely toward resistance,\\r\\nbut later involving offensive battles, the Civil War, to European\\r\\neyes, had reached a stalemate where neither side could conquer the\\r\\nother. To the European neutral the situation was much as in the\\r\\nGreat War it appeared to the American neutral in December, 1916, at\\r\\nthe end of two years of fighting. In both wars the neutral had\\r\\nexpected and had prophesied a short conflict. In both, this had\\r\\nproved to be false prophecy and with each additional month of the\\r\\nCivil War there was witnessed an increase of the forces employed\\r\\nand a psychological change in the people whereby war seemed to have\\r\\nbecome a normal state of society. The American Civil War, as\\r\\nregards continuity, numbers of men steadily engaged, resources'), Document(id='28bfd025-0393-4609-957c-a3dbe9c9dc84', metadata={}, page_content='and a psychological change in the people whereby war seemed to have\\r\\nbecome a normal state of society. The American Civil War, as\\r\\nregards continuity, numbers of men steadily engaged, resources\\r\\nemployed, and persistence of the combatants, was the \"Great War,\"\\r\\nto date, of all modern conflicts. Not only British, but nearly all\\r\\nforeign observers were of the opinion by midsummer of 1864, after\\r\\nan apparent check to Grant in his campaign toward Richmond, that\\r\\nall America had become engaged in a struggle from which there was\\r\\nscant hope of emergence by a decisive military victory. There was\\r\\nlittle knowledge of the steady decline of the resources of the\\r\\nSouth even though Jefferson Davis in a message to the Confederate\\r\\nCongress in February, 1864, had spoken bitterly of Southern\\r\\ndisorganization[1197]. Yet this belief in stalemate\\r\\n[V2:pg 220] in\\r\\nessence still postulated an ultimate Southern victory, for the\\r\\nfunction of the Confederacy was, after all, to resist until'), Document(id='ba187093-e54e-4ec9-bd96-62eaa3bc3330', metadata={}, page_content='available land force, however badly trained and organized, of over\\r\\n300,000, though these were widely scattered from the Potomac in the\\r\\neast to the Missouri in the west.\\nIn the South, Davis was equally busy, calling at first for\\r\\n100,000 volunteers to wage defensive battle in protection of the\\r\\nnewly-born Confederacy. The seven states already in secession were\\r\\nsoon joined, between May 4 and June 24, by four others, Arkansas,\\r\\nVirginia, North Carolina and [V1:pg 173] Tennessee in order, but the\\r\\nborder states of Maryland, Kentucky, and Missouri, though strongly\\r\\nsympathetic with the rest of the South, were held to the Union by\\r\\nthe \"border state policy\" of Lincoln, the first pronouncement of\\r\\nwhich asserted that the North had no purpose of attacking slavery\\r\\nwhere it existed, but merely was determined to preserve the Union.\\r\\nThe Northern Congress, meeting in extra session on July 4, heartily\\r\\napproved Lincoln\\'s emergency measures. It authorized an army of')]\n",
            "\n",
            "\n",
            "Answer: I don't know the exact number of deaths from the provided context.\n",
            "\n",
            "However, historical estimates typically place the total death toll of the American Civil War at **around 620,000 to 750,000 soldiers**, with additional civilian casualties. The context provided does not include this specific data.\n"
          ]
        }
      ]
    }
  ]
}